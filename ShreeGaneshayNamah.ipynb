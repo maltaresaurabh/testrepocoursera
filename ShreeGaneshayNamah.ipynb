{
 "cells": [
  {
   "cell_type": "code",
   "execution_count": 4,
   "id": "3d6ba2eb-4525-45cf-a3fd-ec4f519f17c0",
   "metadata": {},
   "outputs": [
    {
     "name": "stdout",
     "output_type": "stream",
     "text": [
      "Shree Ganeshay Namah\n"
     ]
    }
   ],
   "source": [
    "print(\"Shree Ganeshay Namah\")"
   ]
  },
  {
   "cell_type": "code",
   "execution_count": null,
   "id": "07661f1f-0107-40f5-b96a-167c9c5b3db0",
   "metadata": {},
   "outputs": [],
   "source": []
  }
 ],
 "metadata": {
  "kernelspec": {
   "display_name": "Python 3 (ipykernel)",
   "language": "python",
   "name": "python3"
  },
  "language_info": {
   "codemirror_mode": {
    "name": "ipython",
    "version": 3
   },
   "file_extension": ".py",
   "mimetype": "text/x-python",
   "name": "python",
   "nbconvert_exporter": "python",
   "pygments_lexer": "ipython3",
   "version": "3.12.7"
  }
 },
 "nbformat": 4,
 "nbformat_minor": 5
}
